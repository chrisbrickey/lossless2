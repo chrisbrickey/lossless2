{
 "cells": [
  {
   "cell_type": "markdown",
   "id": "acf5a692-0477-4c2d-bbcf-fce8fd04dcbd",
   "metadata": {},
   "source": [
    "# Lab 3B: Forward Propogation in Python (generalized implementation)\n",
    "\n",
    "Description:\n",
    "* Classification\n",
    "* 1 training example with 2 features\n",
    "* Layer 1 has 3 units\n",
    "* Layer 2 has 1 unit\n",
    "\n",
    "Convention: \n",
    "* Use upper case letters for variable naming a matrix.\n",
    "* Use lowercase letters for variable naming vectors and scalars."
   ]
  },
  {
   "cell_type": "code",
   "execution_count": 8,
   "id": "a1980731-f542-46bc-af60-f33e5b425960",
   "metadata": {},
   "outputs": [],
   "source": [
    "import numpy as np\n",
    "from lib.lab_utils_common import sigmoid"
   ]
  },
  {
   "cell_type": "code",
   "execution_count": 9,
   "id": "9bae7a01-410e-4dcc-a60e-fd20a1275f82",
   "metadata": {},
   "outputs": [],
   "source": [
    "# LAYER 1 - All 3 units\n",
    "\n",
    "# input values (1 training example with 2 features)\n",
    "a_in = np.array([-2, 4])\n",
    "\n",
    "# weights for layer 1: \n",
    "# 2 input features per unit = 2 rows \n",
    "# 3 units in the layer = 3 cols\n",
    "weights1 = np.array([[1, -3, 5], \n",
    "                [2, 4, -6]]) \n",
    "\n",
    "# biases for layer 1:\n",
    "# always 1 bias per unit = 1 row\n",
    "# 3 units in the layer = 3 cols\n",
    "biases1 = np.array([-1, 1, 2])\n",
    "\n",
    "# combine functions and activations for a single layer (all units)\n",
    "def dense(a_in, weights, biases):\n",
    "    unit_count = weights.shape[1]\n",
    "\n",
    "    # make dummy array to accumulate results\n",
    "    a_out = np.zeros(unit_count)\n",
    "\n",
    "    # each loop represents one unit/function of the layer\n",
    "    for j in range(unit_count):\n",
    "        w = weights[:, j] # accesses the jth column of the weights matrix... the weights for the unit j\n",
    "        z = np.dot(w, a_in) + b[j]  # analogous to f(x) = wx + b\n",
    "        a_out[j] = sigmoid(z) # sigmoid because doing classification\n",
    "    \n",
    "    return a_out\n",
    "\n",
    "# defines the layers of a network\n",
    "def sequential(x):\n",
    "    a1 = dense(x, weights1, biases1)\n",
    "    a2 = dense(a1, wieghts2, biases2) # 2nd layer takes the output from layer 1 as its input and uses weights and biases assigned to this layer\n",
    "    a3 = dense(a2, weights3, biases3)\n",
    "    a4 = dense(a3, weights4, biases4)\n",
    "    f_x = a4\n",
    "    \n",
    "    return f_x"
   ]
  }
 ],
 "metadata": {
  "kernelspec": {
   "display_name": "Python 3 (ipykernel)",
   "language": "python",
   "name": "python3"
  },
  "language_info": {
   "codemirror_mode": {
    "name": "ipython",
    "version": 3
   },
   "file_extension": ".py",
   "mimetype": "text/x-python",
   "name": "python",
   "nbconvert_exporter": "python",
   "pygments_lexer": "ipython3",
   "version": "3.12.11"
  }
 },
 "nbformat": 4,
 "nbformat_minor": 5
}
