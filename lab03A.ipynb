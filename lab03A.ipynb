{
 "cells": [
  {
   "cell_type": "markdown",
   "id": "06362ca2-c21e-4f75-9795-c9eacb9ec29e",
   "metadata": {},
   "source": [
    "# Lab 3A: Manual Forward Propogation in Python (node by node)\n",
    "\n",
    "Description:\n",
    "* Classification\n",
    "* One training example with 2 features\n",
    "* Layer 1 has 3 units\n",
    "* Layer 2 has 1 unit"
   ]
  },
  {
   "cell_type": "code",
   "execution_count": 25,
   "id": "e2e50fa2-c502-416b-82e7-9ada6958aef7",
   "metadata": {},
   "outputs": [],
   "source": [
    "import numpy as np\n",
    "from lib.lab_utils_common import sigmoid"
   ]
  },
  {
   "cell_type": "code",
   "execution_count": 26,
   "id": "0ad9ed2f-b87c-4bee-8e88-c191e22c0da2",
   "metadata": {},
   "outputs": [],
   "source": [
    "# training examples (1 example with 2 features)\n",
    "x = np.array([200, 17])"
   ]
  },
  {
   "cell_type": "markdown",
   "id": "d2b6b14b-7be0-4fe8-a373-0a6cce51e3c1",
   "metadata": {},
   "source": [
    "## Layer 1"
   ]
  },
  {
   "cell_type": "code",
   "execution_count": 27,
   "id": "c2575090-d575-45f6-9f1f-b3bf166c1597",
   "metadata": {},
   "outputs": [],
   "source": [
    "# LAYER 1 UNIT 1\n",
    "\n",
    "# setup for layer 1 unit 1\n",
    "w1_1 = np.array([1, 2]) # layer 1; unit 1; weights for the 2 features\n",
    "b1_1 = np.array([-1]) # layer 1; unit 1; bias (there's only 1 regardless of how many features)\n",
    "\n",
    "# function for layer 1 unit 1\n",
    "z1_1 = np.dot(w1_1, x) + b1_1 # analygous to f(x) = wx + b\n",
    "\n",
    "# activation for layer 1 unit 1; using sigmoid because classification example\n",
    "a1_1 = sigmoid(z1_1)"
   ]
  },
  {
   "cell_type": "code",
   "execution_count": 28,
   "id": "6d71870f-629a-4828-970e-7b6e1eda7e10",
   "metadata": {},
   "outputs": [],
   "source": [
    "# LAYER 1 UNIT 2\n",
    "\n",
    "w1_2 = np.array([-3, 4])\n",
    "b1_2 = np.array([1])\n",
    "\n",
    "z1_2 = np.dot(w1_2, x) + b1_2\n",
    "\n",
    "a1_2 = sigmoid(z1_2)"
   ]
  },
  {
   "cell_type": "code",
   "execution_count": 29,
   "id": "e4451212-989b-4518-b6d3-1323f68c27de",
   "metadata": {},
   "outputs": [],
   "source": [
    "# LAYER 1 UNIT 3\n",
    "\n",
    "w1_3 = np.array([5, -6])\n",
    "b1_3 = np.array([2])\n",
    "\n",
    "z1_3 = np.dot(w1_3, x) + b1_3\n",
    "\n",
    "a1_3 = sigmoid(z1_3)"
   ]
  },
  {
   "cell_type": "code",
   "execution_count": 30,
   "id": "8bce86cd-8d09-4c91-8a3a-6c50a03441cf",
   "metadata": {},
   "outputs": [
    {
     "name": "stdout",
     "output_type": "stream",
     "text": [
      "[[1.00e+000]\n",
      " [7.12e-218]\n",
      " [1.00e+000]]\n"
     ]
    }
   ],
   "source": [
    "# Collect all outputs from layer 1\n",
    "a1 = np.array([a1_1, a1_2, a1_3])\n",
    "\n",
    "print(a1)\n"
   ]
  },
  {
   "cell_type": "markdown",
   "id": "5cbf9070-c711-47a7-8153-a3a33196ae64",
   "metadata": {},
   "source": [
    "## Layer 2"
   ]
  },
  {
   "cell_type": "code",
   "execution_count": 32,
   "id": "9e5932e4-8472-4082-a3e6-2f14ef95a0d9",
   "metadata": {},
   "outputs": [
    {
     "name": "stdout",
     "output_type": "stream",
     "text": [
      "[0.99]\n"
     ]
    }
   ],
   "source": [
    "# LAYER 2 UNIT 1\n",
    "\n",
    "# setup for layer 2 unit 1\n",
    "# Why 3 weights instead of 2? ... because layer 1 yielded 3 results (a1 has size 3 because layer 1 had 3 units)\n",
    "#                             ... remember that each layer is a construction of new 'features' that may be combinations of original features\n",
    "#                             ... so layer 1 had 2 weights for the 2 input features; layer 2 has 3 weights for the 3 'inputs' coming from layer 1\n",
    "w2_1 = np.array([-7, 8, 9]) \n",
    "b2_1 = np.array([3]) # there's only 1 bias regardless of how many features\n",
    "\n",
    "# function for layer 2 unit 1\n",
    "# x (the input for layer 1) is replaced with a1 (the input for layer 2)\n",
    "z2_1 = np.dot(w2_1, a1) + b2_1 # analygous to f(x) = wx + b\n",
    "\n",
    "# activation for layer 2 unit 1; using sigmoid because classification example\n",
    "a2_1 = sigmoid(z2_1)\n",
    "\n",
    "print(a2_1)"
   ]
  },
  {
   "cell_type": "code",
   "execution_count": null,
   "id": "df75ce1a-3366-4af8-a34e-7ef5c20c7194",
   "metadata": {},
   "outputs": [],
   "source": []
  }
 ],
 "metadata": {
  "kernelspec": {
   "display_name": "Python 3 (ipykernel)",
   "language": "python",
   "name": "python3"
  },
  "language_info": {
   "codemirror_mode": {
    "name": "ipython",
    "version": 3
   },
   "file_extension": ".py",
   "mimetype": "text/x-python",
   "name": "python",
   "nbconvert_exporter": "python",
   "pygments_lexer": "ipython3",
   "version": "3.12.11"
  }
 },
 "nbformat": 4,
 "nbformat_minor": 5
}
