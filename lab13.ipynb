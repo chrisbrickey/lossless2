{
 "cells": [
  {
   "cell_type": "markdown",
   "id": "628fb21b-97ae-45d6-9250-ef417e6d469e",
   "metadata": {},
   "source": [
    "# Lab 13: More Derivatives"
   ]
  },
  {
   "cell_type": "code",
   "execution_count": 1,
   "id": "80ee4ef4-f059-4e25-9d49-6b76fef33a77",
   "metadata": {},
   "outputs": [],
   "source": [
    "from sympy import symbols, diff"
   ]
  },
  {
   "cell_type": "markdown",
   "id": "0906b32e-3279-43a3-9773-b7be42545156",
   "metadata": {},
   "source": [
    "## Approximating derivatives manually"
   ]
  },
  {
   "cell_type": "markdown",
   "id": "355584e2-212a-4466-87f9-5699b11e2d36",
   "metadata": {},
   "source": [
    "### medium-sized epsilon"
   ]
  },
  {
   "cell_type": "code",
   "execution_count": 7,
   "id": "f7900188-b5d4-411c-82b2-ae6ca96d327b",
   "metadata": {},
   "outputs": [
    {
     "name": "stdout",
     "output_type": "stream",
     "text": [
      "J = 9, J_epsilon = 9.006001, dJ_dw ~= k = 6.001000 \n"
     ]
    }
   ],
   "source": [
    "# J(w) = w^2\n",
    "w = 3\n",
    "J = (w)**2\n",
    "\n",
    "# epsilon is the small amount of change used to calculate the gradient\n",
    "epsilon = 0.001\n",
    "J_epsilon = (3 + epsilon)**2\n",
    "\n",
    "# take the difference divided by epsilon\n",
    "k = (J_epsilon - J)/epsilon    \n",
    "\n",
    "print(f\"J = {J}, J_epsilon = {J_epsilon}, dJ_dw ~= k = {k:0.6f} \")"
   ]
  },
  {
   "cell_type": "markdown",
   "id": "3a626bc6-b9a1-4f50-8574-9b6b62b41a75",
   "metadata": {},
   "source": [
    "### smaller epsilon \n",
    "As epsilon (change) gets smaller and smaller (closer to zero or infinitesimally smaller), the value of the calcuated derivative gets closer and closer to the actual derivative (slope of tangent line) at that point."
   ]
  },
  {
   "cell_type": "code",
   "execution_count": 10,
   "id": "6feae700-1f55-4d4a-95d1-113fb31f8db4",
   "metadata": {},
   "outputs": [
    {
     "name": "stdout",
     "output_type": "stream",
     "text": [
      "J = 9, J_epsilon = 9.000000006, dJ_dw ~= k = 6.000000496442226 \n"
     ]
    }
   ],
   "source": [
    "# J(w) = w^2\n",
    "w = 3\n",
    "J = (w)**2\n",
    "\n",
    "# epsilon is the small amount of change used to calculate the gradient\n",
    "epsilon = 0.000000001\n",
    "J_epsilon = (3 + epsilon)**2\n",
    "\n",
    "# take the difference divided by epsilon\n",
    "k = (J_epsilon - J)/epsilon\n",
    "\n",
    "print(f\"J = {J}, J_epsilon = {J_epsilon}, dJ_dw ~= k = {k} \")"
   ]
  },
  {
   "cell_type": "markdown",
   "id": "1d5ce637-6807-449b-bbfb-e222ce17d5aa",
   "metadata": {},
   "source": [
    "## Use sympy library to calculate derivatives\n",
    "\n",
    "* A symbolic derivative is the derivative of a function that still uses the variable. e.g. The symbolic derivative of x^3 is 3x^2.\n",
    "* A calculated derivative is the numeric value that results from plugging in the variable's value. e.g. The numeric derivative of y = x^3 when x = 2 is... 3x^2 = 3*(2^2) = 3*4 = 12."
   ]
  },
  {
   "cell_type": "markdown",
   "id": "0bbab4ac-a6ae-4b6f-92fb-38c6fe31a15c",
   "metadata": {},
   "source": [
    "### J = w^2"
   ]
  },
  {
   "cell_type": "code",
   "execution_count": 15,
   "id": "65f91213-0c02-4a40-8b83-f06ea9f11513",
   "metadata": {},
   "outputs": [
    {
     "data": {
      "text/latex": [
       "$\\displaystyle w^{2}$"
      ],
      "text/plain": [
       "w**2"
      ]
     },
     "execution_count": 15,
     "metadata": {},
     "output_type": "execute_result"
    }
   ],
   "source": [
    "# Setup the function: J(w) = w^2\n",
    "J, w = symbols('J, w')\n",
    "J=w**2\n",
    "J"
   ]
  },
  {
   "cell_type": "markdown",
   "id": "4a65e55c-9b74-4c82-88f9-3c62818fb4e8",
   "metadata": {},
   "source": [
    "#### Calculate symbolic derivative"
   ]
  },
  {
   "cell_type": "code",
   "execution_count": 14,
   "id": "de4c1da2-ac2d-44f7-9ff6-c2f6af51af17",
   "metadata": {},
   "outputs": [
    {
     "data": {
      "text/latex": [
       "$\\displaystyle 2 w$"
      ],
      "text/plain": [
       "2*w"
      ]
     },
     "execution_count": 14,
     "metadata": {},
     "output_type": "execute_result"
    }
   ],
   "source": [
    "# Take the derivative with respect to w\n",
    "dJ_dw = diff(J,w)\n",
    "dJ_dw"
   ]
  },
  {
   "cell_type": "markdown",
   "id": "20cdd469-6e7f-447e-be7b-b7a471f04531",
   "metadata": {},
   "source": [
    "#### Calculate numeric derivatives from the symbolic derivative"
   ]
  },
  {
   "cell_type": "code",
   "execution_count": 16,
   "id": "4c20c001-e30e-4439-9089-41eb6f63b11a",
   "metadata": {},
   "outputs": [
    {
     "data": {
      "text/latex": [
       "$\\displaystyle 4$"
      ],
      "text/plain": [
       "4"
      ]
     },
     "execution_count": 16,
     "metadata": {},
     "output_type": "execute_result"
    }
   ],
   "source": [
    "dJ_dw.subs([(w,2)])    # derivative at the point w = 2"
   ]
  },
  {
   "cell_type": "code",
   "execution_count": 17,
   "id": "66e79aeb-ce34-40de-b794-61941b7b3ca3",
   "metadata": {},
   "outputs": [
    {
     "data": {
      "text/latex": [
       "$\\displaystyle 6$"
      ],
      "text/plain": [
       "6"
      ]
     },
     "execution_count": 17,
     "metadata": {},
     "output_type": "execute_result"
    }
   ],
   "source": [
    "dJ_dw.subs([(w,3)])    # derivative at the point w = 3"
   ]
  },
  {
   "cell_type": "code",
   "execution_count": 18,
   "id": "86f3d128-4b27-4a5e-9850-a4c60d91de9e",
   "metadata": {},
   "outputs": [
    {
     "data": {
      "text/latex": [
       "$\\displaystyle -6$"
      ],
      "text/plain": [
       "-6"
      ]
     },
     "execution_count": 18,
     "metadata": {},
     "output_type": "execute_result"
    }
   ],
   "source": [
    "dJ_dw.subs([(w,-3)])    # derivative at the point w = -3"
   ]
  },
  {
   "cell_type": "markdown",
   "id": "7af98354-c5e3-4beb-9bc2-c45781be321c",
   "metadata": {},
   "source": [
    "### J = 2w"
   ]
  },
  {
   "cell_type": "code",
   "execution_count": 19,
   "id": "bfe78dc8-2c6c-4cbc-bcd8-751fed79e463",
   "metadata": {},
   "outputs": [
    {
     "data": {
      "text/latex": [
       "$\\displaystyle 2 w$"
      ],
      "text/plain": [
       "2*w"
      ]
     },
     "execution_count": 19,
     "metadata": {},
     "output_type": "execute_result"
    }
   ],
   "source": [
    "w, J = symbols('w, J')\n",
    "J = 2 * w\n",
    "J"
   ]
  },
  {
   "cell_type": "code",
   "execution_count": 20,
   "id": "9a7bf260-cc32-4f5f-89e9-b6cb8729b004",
   "metadata": {},
   "outputs": [
    {
     "data": {
      "text/latex": [
       "$\\displaystyle 2$"
      ],
      "text/plain": [
       "2"
      ]
     },
     "execution_count": 20,
     "metadata": {},
     "output_type": "execute_result"
    }
   ],
   "source": [
    "dJ_dw = diff(J,w)\n",
    "dJ_dw"
   ]
  },
  {
   "cell_type": "code",
   "execution_count": 21,
   "id": "c7cfd39e-8cd1-4d49-857a-401339070472",
   "metadata": {},
   "outputs": [
    {
     "data": {
      "text/latex": [
       "$\\displaystyle 2$"
      ],
      "text/plain": [
       "2"
      ]
     },
     "execution_count": 21,
     "metadata": {},
     "output_type": "execute_result"
    }
   ],
   "source": [
    "dJ_dw.subs([(w,-3)])    # derivative at the point w = -3"
   ]
  },
  {
   "cell_type": "markdown",
   "id": "f9799e8e-73b5-4a37-85b6-52fc9fa69d1e",
   "metadata": {},
   "source": [
    "#### Compare above with arithmetic calculation"
   ]
  },
  {
   "cell_type": "code",
   "execution_count": 23,
   "id": "8aebd815-1b3a-4cfd-9dd0-fd695984f487",
   "metadata": {},
   "outputs": [
    {
     "name": "stdout",
     "output_type": "stream",
     "text": [
      "J = 6, J_epsilon = 6.002, dJ_dw ~= k = 1.9999999999997797 \n"
     ]
    }
   ],
   "source": [
    "J = 2*3\n",
    "J_epsilon = 2*(3 + 0.001)\n",
    "k = (J_epsilon - J)/0.001\n",
    "print(f\"J = {J}, J_epsilon = {J_epsilon}, dJ_dw ~= k = {k} \")"
   ]
  },
  {
   "cell_type": "markdown",
   "id": "30d0d545-f8bc-45b6-878d-c5399f8e655a",
   "metadata": {},
   "source": [
    "### J = w^3"
   ]
  },
  {
   "cell_type": "code",
   "execution_count": 24,
   "id": "d112954e-1533-49f7-a938-674953ebf825",
   "metadata": {},
   "outputs": [
    {
     "data": {
      "text/latex": [
       "$\\displaystyle w^{3}$"
      ],
      "text/plain": [
       "w**3"
      ]
     },
     "execution_count": 24,
     "metadata": {},
     "output_type": "execute_result"
    }
   ],
   "source": [
    "J, w = symbols('J, w')\n",
    "J=w**3\n",
    "J"
   ]
  },
  {
   "cell_type": "code",
   "execution_count": 25,
   "id": "119fdaed-9038-4680-9308-0c8c74b121a4",
   "metadata": {},
   "outputs": [
    {
     "data": {
      "text/latex": [
       "$\\displaystyle 3 w^{2}$"
      ],
      "text/plain": [
       "3*w**2"
      ]
     },
     "execution_count": 25,
     "metadata": {},
     "output_type": "execute_result"
    }
   ],
   "source": [
    "dJ_dw = diff(J,w)\n",
    "dJ_dw"
   ]
  },
  {
   "cell_type": "code",
   "execution_count": 26,
   "id": "546dbc8a-ac66-4b66-9d07-f821b4a1c2ee",
   "metadata": {},
   "outputs": [
    {
     "data": {
      "text/latex": [
       "$\\displaystyle 12$"
      ],
      "text/plain": [
       "12"
      ]
     },
     "execution_count": 26,
     "metadata": {},
     "output_type": "execute_result"
    }
   ],
   "source": [
    "dJ_dw.subs([(w,2)])   # derivative at the point w=2"
   ]
  },
  {
   "cell_type": "code",
   "execution_count": 27,
   "id": "025238f6-14e3-435f-b20d-889002dc9f31",
   "metadata": {},
   "outputs": [
    {
     "name": "stdout",
     "output_type": "stream",
     "text": [
      "J = 8, J_epsilon = 8.012006000999998, dJ_dw ~= k = 12.006000999997823 \n"
     ]
    }
   ],
   "source": [
    "# Compare above with arithmetic calculation\n",
    "J = (2)**3\n",
    "J_epsilon = (2+0.001)**3\n",
    "k = (J_epsilon - J)/0.001\n",
    "print(f\"J = {J}, J_epsilon = {J_epsilon}, dJ_dw ~= k = {k} \")"
   ]
  },
  {
   "cell_type": "markdown",
   "id": "c38d24ad-cf1d-48fe-9fe8-0d3a5ccd9f74",
   "metadata": {},
   "source": [
    "### J = 1/w"
   ]
  },
  {
   "cell_type": "code",
   "execution_count": 28,
   "id": "9d03948d-a243-4898-933f-fbc23434bf7f",
   "metadata": {},
   "outputs": [
    {
     "data": {
      "text/latex": [
       "$\\displaystyle \\frac{1}{w}$"
      ],
      "text/plain": [
       "1/w"
      ]
     },
     "execution_count": 28,
     "metadata": {},
     "output_type": "execute_result"
    }
   ],
   "source": [
    "J, w = symbols('J, w')\n",
    "J= 1/w\n",
    "J"
   ]
  },
  {
   "cell_type": "code",
   "execution_count": 29,
   "id": "11ed3cb3-6f6c-4398-b14e-110b79739bbf",
   "metadata": {},
   "outputs": [
    {
     "data": {
      "text/latex": [
       "$\\displaystyle - \\frac{1}{w^{2}}$"
      ],
      "text/plain": [
       "-1/w**2"
      ]
     },
     "execution_count": 29,
     "metadata": {},
     "output_type": "execute_result"
    }
   ],
   "source": [
    "dJ_dw = diff(J,w)\n",
    "dJ_dw"
   ]
  },
  {
   "cell_type": "code",
   "execution_count": 30,
   "id": "d23c5016-f31a-40be-9e6a-95a0e2685508",
   "metadata": {},
   "outputs": [
    {
     "data": {
      "text/latex": [
       "$\\displaystyle - \\frac{1}{4}$"
      ],
      "text/plain": [
       "-1/4"
      ]
     },
     "execution_count": 30,
     "metadata": {},
     "output_type": "execute_result"
    }
   ],
   "source": [
    "dJ_dw.subs([(w,2)])"
   ]
  },
  {
   "cell_type": "code",
   "execution_count": 32,
   "id": "8218a50f-7714-43b8-b918-ee3189c36c61",
   "metadata": {},
   "outputs": [
    {
     "name": "stdout",
     "output_type": "stream",
     "text": [
      "J = 0.5, J_epsilon = 0.49975012493753124, dJ_dw ~= k = -0.2498750624687629 \n"
     ]
    }
   ],
   "source": [
    "# Compare above with arithmetic calculation\n",
    "J = 1/2\n",
    "J_epsilon = 1/(2+0.001)\n",
    "k = (J_epsilon - J)/0.001\n",
    "print(f\"J = {J}, J_epsilon = {J_epsilon}, dJ_dw ~= k = {k} \")"
   ]
  },
  {
   "cell_type": "markdown",
   "id": "471fd59d-ff22-4fb3-9093-d49fbe16252f",
   "metadata": {},
   "source": [
    "### J = 1/(w^2)"
   ]
  },
  {
   "cell_type": "code",
   "execution_count": 33,
   "id": "c1dd944d-1f12-4c60-b41f-a9638440d424",
   "metadata": {},
   "outputs": [
    {
     "data": {
      "text/latex": [
       "$\\displaystyle \\frac{1}{w^{2}}$"
      ],
      "text/plain": [
       "w**(-2)"
      ]
     },
     "execution_count": 33,
     "metadata": {},
     "output_type": "execute_result"
    }
   ],
   "source": [
    "J, w = symbols('J, w')\n",
    "J = 1/(w**2)\n",
    "J"
   ]
  },
  {
   "cell_type": "code",
   "execution_count": 34,
   "id": "ceba5ce7-565d-4f1c-b3ba-5aefa859f5c4",
   "metadata": {},
   "outputs": [
    {
     "data": {
      "text/latex": [
       "$\\displaystyle - \\frac{2}{w^{3}}$"
      ],
      "text/plain": [
       "-2/w**3"
      ]
     },
     "execution_count": 34,
     "metadata": {},
     "output_type": "execute_result"
    }
   ],
   "source": [
    "dJ_dw = diff(J,w)\n",
    "dJ_dw"
   ]
  },
  {
   "cell_type": "code",
   "execution_count": 35,
   "id": "4c9826b2-2f2d-4f05-8c9a-c87acb7f497e",
   "metadata": {},
   "outputs": [
    {
     "data": {
      "text/latex": [
       "$\\displaystyle - \\frac{1}{4}$"
      ],
      "text/plain": [
       "-1/4"
      ]
     },
     "execution_count": 35,
     "metadata": {},
     "output_type": "execute_result"
    }
   ],
   "source": [
    "dJ_dw.subs([(w,2)])"
   ]
  },
  {
   "cell_type": "code",
   "execution_count": 36,
   "id": "cad847e9-dee2-412c-973b-3bac548a328e",
   "metadata": {},
   "outputs": [
    {
     "data": {
      "text/latex": [
       "$\\displaystyle - \\frac{1}{32}$"
      ],
      "text/plain": [
       "-1/32"
      ]
     },
     "execution_count": 36,
     "metadata": {},
     "output_type": "execute_result"
    }
   ],
   "source": [
    "dJ_dw.subs([(w,4)])"
   ]
  },
  {
   "cell_type": "code",
   "execution_count": 37,
   "id": "ec7a5bbb-e507-453b-8363-3ce1df66a252",
   "metadata": {},
   "outputs": [
    {
     "name": "stdout",
     "output_type": "stream",
     "text": [
      "J = 0.0625, J_epsilon = 0.06246876171484496, dJ_dw ~= k = -0.031238285155041345 \n"
     ]
    }
   ],
   "source": [
    "# Compare above with arithmetic calculation\n",
    "J = 1/4**2\n",
    "J_epsilon = 1/(4+0.001)**2\n",
    "k = (J_epsilon - J)/0.001\n",
    "print(f\"J = {J}, J_epsilon = {J_epsilon}, dJ_dw ~= k = {k} \")"
   ]
  }
 ],
 "metadata": {
  "kernelspec": {
   "display_name": "Python 3 (ipykernel)",
   "language": "python",
   "name": "python3"
  },
  "language_info": {
   "codemirror_mode": {
    "name": "ipython",
    "version": 3
   },
   "file_extension": ".py",
   "mimetype": "text/x-python",
   "name": "python",
   "nbconvert_exporter": "python",
   "pygments_lexer": "ipython3",
   "version": "3.12.11"
  }
 },
 "nbformat": 4,
 "nbformat_minor": 5
}
