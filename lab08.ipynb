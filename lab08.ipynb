{
 "cells": [
  {
   "cell_type": "markdown",
   "id": "ae054cf8-ae49-460e-9ab3-9e7192a3acb1",
   "metadata": {},
   "source": [
    "# Lab 08: Multiclass Classification with Softmax function (DO NOT USE)\n",
    "\n",
    "The below illustrates the three basic steps of training a model for multiclass classification. For comprehension, this code is analogous to lines used previously when doing linear and logistical regression using tensorflow.\n",
    "\n",
    "However, there is a more efficient way to train multiclass models in tensorflow. So do NOT use the below code for implementation."
   ]
  },
  {
   "cell_type": "code",
   "execution_count": 1,
   "id": "6a4408ff-68a8-4b70-a36a-e2623933c093",
   "metadata": {},
   "outputs": [],
   "source": [
    "import tensorflow as tf\n",
    "from tensorflow.keras import Sequential\n",
    "from tensorflow.keras.layers import Dense"
   ]
  },
  {
   "cell_type": "markdown",
   "id": "5016fe9d-8e86-4747-b69c-5986adcb8a04",
   "metadata": {},
   "source": [
    "## Specify the model\n",
    "\n",
    "* Hidden layers use ReLU activation function to take advantage of it's ability to 'turn off' functions.\n",
    "* Final layer must have the same number of units as there are possible classes. In this case, there are 10 possible classes for categorization. Therefore the final layer must use softmax function with 10 units."
   ]
  },
  {
   "cell_type": "code",
   "execution_count": 2,
   "id": "09cbffcd-2185-403b-bbfe-7f441983ecb9",
   "metadata": {},
   "outputs": [],
   "source": [
    "model = Sequential([\n",
    "    Dense(units=25, activation='relu'),\n",
    "    Dense(units=15, activation='relu'),\n",
    "    Dense(units=10, activation='softmax')\n",
    "])"
   ]
  },
  {
   "cell_type": "markdown",
   "id": "3c63cbe5-c7ae-4c3e-b40a-b07eeca9e6e0",
   "metadata": {},
   "source": [
    "## Specify loss and cost functions"
   ]
  },
  {
   "cell_type": "code",
   "execution_count": 3,
   "id": "9ba97988-bda1-4f90-815b-ad8a27c5c570",
   "metadata": {},
   "outputs": [],
   "source": [
    "from tensorflow.keras.losses import SparseCategoricalCrossentropy"
   ]
  },
  {
   "cell_type": "code",
   "execution_count": 4,
   "id": "6f061d0f-fc10-428a-a6d0-4f0d7ecb2bbe",
   "metadata": {},
   "outputs": [],
   "source": [
    "model.compile(loss=SparseCategoricalCrossentropy())"
   ]
  },
  {
   "cell_type": "markdown",
   "id": "9b4c0b0d-f8d1-478c-8db2-639451f21371",
   "metadata": {},
   "source": [
    "## Train on data to minimize loss/cost"
   ]
  },
  {
   "cell_type": "code",
   "execution_count": 5,
   "id": "767bf1fb-3867-4a89-92af-00afe63d8216",
   "metadata": {},
   "outputs": [
    {
     "ename": "NameError",
     "evalue": "name 'X' is not defined",
     "output_type": "error",
     "traceback": [
      "\u001b[31m---------------------------------------------------------------------------\u001b[39m",
      "\u001b[31mNameError\u001b[39m                                 Traceback (most recent call last)",
      "\u001b[36mCell\u001b[39m\u001b[36m \u001b[39m\u001b[32mIn[5]\u001b[39m\u001b[32m, line 1\u001b[39m\n\u001b[32m----> \u001b[39m\u001b[32m1\u001b[39m model.fit(\u001b[43mX\u001b[49m, Y, epochs=\u001b[32m100\u001b[39m)\n",
      "\u001b[31mNameError\u001b[39m: name 'X' is not defined"
     ]
    }
   ],
   "source": [
    "model.fit(X, Y, epochs=100)"
   ]
  }
 ],
 "metadata": {
  "kernelspec": {
   "display_name": "Python 3 (ipykernel)",
   "language": "python",
   "name": "python3"
  },
  "language_info": {
   "codemirror_mode": {
    "name": "ipython",
    "version": 3
   },
   "file_extension": ".py",
   "mimetype": "text/x-python",
   "name": "python",
   "nbconvert_exporter": "python",
   "pygments_lexer": "ipython3",
   "version": "3.12.11"
  }
 },
 "nbformat": 4,
 "nbformat_minor": 5
}
