{
 "cells": [
  {
   "cell_type": "markdown",
   "id": "e70b5171-8077-4ca9-9ee7-47543d33327f",
   "metadata": {},
   "source": [
    "# Lab 12:Calculating derivatives"
   ]
  },
  {
   "cell_type": "code",
   "execution_count": 1,
   "id": "3966840a-029a-44e6-8c00-0c68c15d6e14",
   "metadata": {},
   "outputs": [],
   "source": [
    "# sympy is a helpful library for performing calculus with \n",
    "import sympy"
   ]
  },
  {
   "cell_type": "code",
   "execution_count": 2,
   "id": "945be28d-98a9-42e2-a66c-dcb523f4d950",
   "metadata": {},
   "outputs": [],
   "source": [
    "J, w = sympy.symbols('J,w')"
   ]
  },
  {
   "cell_type": "markdown",
   "id": "632194b9-502c-4f00-8d98-55e4ab1ede2d",
   "metadata": {},
   "source": [
    "## Example 1: J = w^2"
   ]
  },
  {
   "cell_type": "code",
   "execution_count": 3,
   "id": "2b7503e6-dccb-45dc-93b7-3739a4270905",
   "metadata": {},
   "outputs": [
    {
     "data": {
      "text/latex": [
       "$\\displaystyle w^{2}$"
      ],
      "text/plain": [
       "w**2"
      ]
     },
     "execution_count": 3,
     "metadata": {},
     "output_type": "execute_result"
    }
   ],
   "source": [
    "# J is the cost function; w is an input\n",
    "J = w**2 # quadratic function\n",
    "J"
   ]
  },
  {
   "cell_type": "code",
   "execution_count": 22,
   "id": "08002ff8-920d-46ad-a1d9-cfaf30fcc125",
   "metadata": {},
   "outputs": [
    {
     "name": "stdout",
     "output_type": "stream",
     "text": [
      "3*w**2\n"
     ]
    },
    {
     "data": {
      "text/latex": [
       "$\\displaystyle 3 w^{2}$"
      ],
      "text/plain": [
       "3*w**2"
      ]
     },
     "execution_count": 22,
     "metadata": {},
     "output_type": "execute_result"
    }
   ],
   "source": [
    "# calculates the derivative of J with respect to w\n",
    "# The derivative of w^2 = 2w.\n",
    "dJ_dw = sympy.diff(J,w)\n",
    "print(dJ_dw)\n",
    "dJ_dw"
   ]
  },
  {
   "cell_type": "code",
   "execution_count": 10,
   "id": "f1cbbe04-49da-4b51-964c-ed4bb0eae1b7",
   "metadata": {},
   "outputs": [
    {
     "data": {
      "text/latex": [
       "$\\displaystyle 4$"
      ],
      "text/plain": [
       "4"
      ]
     },
     "execution_count": 10,
     "metadata": {},
     "output_type": "execute_result"
    }
   ],
   "source": [
    "# plug in an input to the derivative\n",
    "# 2w = 2*2 = 4\n",
    "dJ_dw.subs([(w, 2)])"
   ]
  },
  {
   "cell_type": "markdown",
   "id": "6bed14f6-ca95-49d6-8c82-b1964340fe28",
   "metadata": {},
   "source": [
    "## Example 2: J = w^3"
   ]
  },
  {
   "cell_type": "code",
   "execution_count": 25,
   "id": "0b26ad0a-f82c-4a81-9919-97375b321019",
   "metadata": {},
   "outputs": [
    {
     "name": "stdout",
     "output_type": "stream",
     "text": [
      "w**3\n"
     ]
    },
    {
     "data": {
      "text/latex": [
       "$\\displaystyle w^{3}$"
      ],
      "text/plain": [
       "w**3"
      ]
     },
     "execution_count": 25,
     "metadata": {},
     "output_type": "execute_result"
    }
   ],
   "source": [
    "# cubic function\n",
    "J = w**3\n",
    "print(J)\n",
    "J"
   ]
  },
  {
   "cell_type": "code",
   "execution_count": 29,
   "id": "9d8617e8-97cb-4358-8e16-19aaf82e3b9b",
   "metadata": {},
   "outputs": [
    {
     "name": "stdout",
     "output_type": "stream",
     "text": [
      "3*w**2\n"
     ]
    },
    {
     "data": {
      "text/latex": [
       "$\\displaystyle 3 w^{2}$"
      ],
      "text/plain": [
       "3*w**2"
      ]
     },
     "execution_count": 29,
     "metadata": {},
     "output_type": "execute_result"
    }
   ],
   "source": [
    "# hold derivative function in a variable.\n",
    "# The derivative of w^3 = 3w^2\n",
    "dJ_dw = sympy.diff(J,w)\n",
    "print(dJ_dw)\n",
    "dJ_dw"
   ]
  },
  {
   "cell_type": "code",
   "execution_count": 31,
   "id": "a5199d7f-45d6-4cf7-893c-4163551f11aa",
   "metadata": {},
   "outputs": [
    {
     "data": {
      "text/latex": [
       "$\\displaystyle 12$"
      ],
      "text/plain": [
       "12"
      ]
     },
     "execution_count": 31,
     "metadata": {},
     "output_type": "execute_result"
    }
   ],
   "source": [
    "# calculate derivative at a given point\n",
    "assert dJ_dw.subs([(w, 2)]) == 12\n",
    "dJ_dw.subs([(w, 2)])"
   ]
  },
  {
   "cell_type": "markdown",
   "id": "73ab4c1f-4ba4-448d-8265-e869470b7b6e",
   "metadata": {},
   "source": [
    "## Example 3: J = w"
   ]
  },
  {
   "cell_type": "code",
   "execution_count": 32,
   "id": "535d6fd1-dae0-4a55-a9fd-c1aa4247ab68",
   "metadata": {},
   "outputs": [
    {
     "name": "stdout",
     "output_type": "stream",
     "text": [
      "w\n"
     ]
    },
    {
     "data": {
      "text/latex": [
       "$\\displaystyle w$"
      ],
      "text/plain": [
       "w"
      ]
     },
     "execution_count": 32,
     "metadata": {},
     "output_type": "execute_result"
    }
   ],
   "source": [
    "# linear function\n",
    "J = w\n",
    "print(J)\n",
    "J"
   ]
  },
  {
   "cell_type": "code",
   "execution_count": 34,
   "id": "c8623e88-e90c-4662-bf67-c7e72269555f",
   "metadata": {},
   "outputs": [
    {
     "name": "stdout",
     "output_type": "stream",
     "text": [
      "1\n"
     ]
    },
    {
     "data": {
      "text/latex": [
       "$\\displaystyle 1$"
      ],
      "text/plain": [
       "1"
      ]
     },
     "execution_count": 34,
     "metadata": {},
     "output_type": "execute_result"
    }
   ],
   "source": [
    "# hold derivative function in a variable.\n",
    "# The derivative of w = 1\n",
    "dJ_dw = sympy.diff(J,w)\n",
    "print(dJ_dw)\n",
    "dJ_dw"
   ]
  },
  {
   "cell_type": "code",
   "execution_count": 36,
   "id": "50e24c09-658f-4792-af8a-cbf3fec3fe9e",
   "metadata": {},
   "outputs": [
    {
     "data": {
      "text/latex": [
       "$\\displaystyle 1$"
      ],
      "text/plain": [
       "1"
      ]
     },
     "execution_count": 36,
     "metadata": {},
     "output_type": "execute_result"
    }
   ],
   "source": [
    "# calculate derivative at a given point\n",
    "assert dJ_dw.subs([(w, 2)]) == 1\n",
    "dJ_dw.subs([(w, 2)])"
   ]
  },
  {
   "cell_type": "markdown",
   "id": "f676231a-ca0c-4133-aeba-2bb7c667f2c2",
   "metadata": {},
   "source": [
    "## Example 4: J = w/2"
   ]
  },
  {
   "cell_type": "code",
   "execution_count": 43,
   "id": "e7078272-2e8f-49a0-9cfd-ac484c7c25e5",
   "metadata": {},
   "outputs": [
    {
     "name": "stdout",
     "output_type": "stream",
     "text": [
      "w/2\n"
     ]
    },
    {
     "data": {
      "text/latex": [
       "$\\displaystyle \\frac{w}{2}$"
      ],
      "text/plain": [
       "w/2"
      ]
     },
     "execution_count": 43,
     "metadata": {},
     "output_type": "execute_result"
    }
   ],
   "source": [
    "# linear function with fractional coefficient (same as any linear function)\n",
    "J = w/2\n",
    "print(J)\n",
    "J"
   ]
  },
  {
   "cell_type": "code",
   "execution_count": 38,
   "id": "b0c940a9-440e-4ad0-8bc6-d67bc399fb13",
   "metadata": {},
   "outputs": [
    {
     "name": "stdout",
     "output_type": "stream",
     "text": [
      "1/2\n"
     ]
    },
    {
     "data": {
      "text/latex": [
       "$\\displaystyle \\frac{1}{2}$"
      ],
      "text/plain": [
       "1/2"
      ]
     },
     "execution_count": 38,
     "metadata": {},
     "output_type": "execute_result"
    }
   ],
   "source": [
    "# hold derivative function in a variable.\n",
    "# The derivative of w = 1\n",
    "dJ_dw = sympy.diff(J,w)\n",
    "print(dJ_dw)\n",
    "dJ_dw"
   ]
  },
  {
   "cell_type": "code",
   "execution_count": 42,
   "id": "58fe5766-d736-4d82-ab37-42d6b31dea9f",
   "metadata": {},
   "outputs": [
    {
     "data": {
      "text/latex": [
       "$\\displaystyle \\frac{1}{2}$"
      ],
      "text/plain": [
       "1/2"
      ]
     },
     "execution_count": 42,
     "metadata": {},
     "output_type": "execute_result"
    }
   ],
   "source": [
    "# calculate derivative at a given point\n",
    "# assert dJ_dw.subs([(w, 2)]) == 0.5\n",
    "dJ_dw.subs([(w, 2)])"
   ]
  },
  {
   "cell_type": "markdown",
   "id": "c01c0c94-fcc5-46d4-a486-8cf88e23a388",
   "metadata": {},
   "source": [
    "## Example 5: 1/w"
   ]
  },
  {
   "cell_type": "code",
   "execution_count": 44,
   "id": "856c56dd-3157-4fbd-b625-c9bf1b1dc341",
   "metadata": {},
   "outputs": [
    {
     "name": "stdout",
     "output_type": "stream",
     "text": [
      "1/w\n"
     ]
    },
    {
     "data": {
      "text/latex": [
       "$\\displaystyle \\frac{1}{w}$"
      ],
      "text/plain": [
       "1/w"
      ]
     },
     "execution_count": 44,
     "metadata": {},
     "output_type": "execute_result"
    }
   ],
   "source": [
    "# fractional function\n",
    "J = 1/w\n",
    "print(J)\n",
    "J"
   ]
  },
  {
   "cell_type": "code",
   "execution_count": 46,
   "id": "9b8cabad-d402-44f7-b80d-58b52a400543",
   "metadata": {},
   "outputs": [
    {
     "name": "stdout",
     "output_type": "stream",
     "text": [
      "-1/w**2\n"
     ]
    },
    {
     "data": {
      "text/latex": [
       "$\\displaystyle - \\frac{1}{w^{2}}$"
      ],
      "text/plain": [
       "-1/w**2"
      ]
     },
     "execution_count": 46,
     "metadata": {},
     "output_type": "execute_result"
    }
   ],
   "source": [
    "# hold derivative function in a variable.\n",
    "# The derivative of 1/w = 1/(w^2)\n",
    "dJ_dw = sympy.diff(J,w)\n",
    "print(dJ_dw)\n",
    "dJ_dw"
   ]
  },
  {
   "cell_type": "code",
   "execution_count": 49,
   "id": "da63e72d-853f-4b68-83ab-e9c25fec8d79",
   "metadata": {},
   "outputs": [
    {
     "data": {
      "text/latex": [
       "$\\displaystyle - \\frac{1}{4}$"
      ],
      "text/plain": [
       "-1/4"
      ]
     },
     "execution_count": 49,
     "metadata": {},
     "output_type": "execute_result"
    }
   ],
   "source": [
    "# calculate derivative at a given point\n",
    "# assert dJ_dw.subs([(w, 2)]) == -0.25\n",
    "dJ_dw.subs([(w, 2)])"
   ]
  }
 ],
 "metadata": {
  "kernelspec": {
   "display_name": "Python 3 (ipykernel)",
   "language": "python",
   "name": "python3"
  },
  "language_info": {
   "codemirror_mode": {
    "name": "ipython",
    "version": 3
   },
   "file_extension": ".py",
   "mimetype": "text/x-python",
   "name": "python",
   "nbconvert_exporter": "python",
   "pygments_lexer": "ipython3",
   "version": "3.12.11"
  }
 },
 "nbformat": 4,
 "nbformat_minor": 5
}
