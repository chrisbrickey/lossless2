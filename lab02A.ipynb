{
 "cells": [
  {
   "cell_type": "markdown",
   "id": "c3385c4e-c1f8-4de7-bfe9-26f199ef232d",
   "metadata": {},
   "source": [
    "# Lab 2A: Forward Propogation with TensorFlow"
   ]
  },
  {
   "cell_type": "code",
   "execution_count": 4,
   "id": "1a39d7aa-77f9-4bf4-93d3-23e7d3f9e0df",
   "metadata": {},
   "outputs": [],
   "source": [
    "import numpy as np\n",
    "# import matplotlib.pyplot as plt\n",
    "import tensorflow as tf\n",
    "from tensorflow.keras.layers import Dense, Input"
   ]
  },
  {
   "cell_type": "markdown",
   "id": "4d7684e8-d70f-486f-af09-00eafa3403e6",
   "metadata": {},
   "source": [
    "## Explicit forward propogation for classification"
   ]
  },
  {
   "cell_type": "code",
   "execution_count": 6,
   "id": "200b7c04-3c3e-4bb5-a0ef-b7c5a85efcbf",
   "metadata": {},
   "outputs": [
    {
     "name": "stdout",
     "output_type": "stream",
     "text": [
      "tf.Tensor([[0.000000e+00 9.903084e-16 0.000000e+00]], shape=(1, 3), dtype=float32)\n",
      "tf.Tensor([[0.5]], shape=(1, 1), dtype=float32)\n"
     ]
    }
   ],
   "source": [
    "# input data is one training example: 200 degrees F, 17 minutes\n",
    "# Use 2D array because need one row per training example\n",
    "x_train = np.array([[200.0, 17.0]])\n",
    "\n",
    "# Create first layer using TensorFlow\n",
    "# units: number of functions in this layer\n",
    "layer_1 = Dense(units=3, activation='sigmoid')\n",
    "\n",
    "# Activate the first layer to get the outputs... which will be in the form of a Tensor\n",
    "# The below will be a 2D array with 1 row and 3 columns.\n",
    "# Number of rows: number of training examples\n",
    "# Number of columnns: number of units/functions in the layer\n",
    "a1 = layer_1(x_train)\n",
    "print(a1)\n",
    "\n",
    "# Create second and last layer\n",
    "# Final layers should have only 1 unit/function. \n",
    "# This means there will be only 1 output number per training example\n",
    "layer_2 = Dense(units=1, activation='sigmoid')\n",
    "\n",
    "\n",
    "# Activate second layer\n",
    "# Use outputs from layer 1 as inputs to layer 2\n",
    "a2 = layer_2(a1)\n",
    "print(a2)"
   ]
  },
  {
   "cell_type": "markdown",
   "id": "9bf09064-6cb2-4eb6-85d9-90e6dad33b55",
   "metadata": {},
   "source": [
    "## Automate forward propogation for classification"
   ]
  },
  {
   "cell_type": "code",
   "execution_count": 12,
   "id": "84e026e1-d9d1-40d7-93b6-64d3ebbcf645",
   "metadata": {},
   "outputs": [],
   "source": [
    "# Load data: 4 training examples\n",
    "# Each one has temperature (F) and time (minutes)\n",
    "x_train = np.array([[200.0, 17.0],\n",
    "                    [120.0, 5.0],\n",
    "                    [425.0, 20.0],\n",
    "                    [212.0, 18.0]])\n",
    "\n",
    "# Actual targets/results from training examples (1 result for each training example)\n",
    "y = np.array([1, 0, 0, 1])\n",
    "\n",
    "\n",
    "# Layers are defined the same way as above\n",
    "layer1 = Dense(units=3, activation='sigmoid')\n",
    "layer2 = Dense(units=1, activation='sigmoid')\n",
    "\n",
    "# Use Sequential class to indicate in which order the layers should be activated\n",
    "# model = Sequential([layer1, layer2])\n",
    "\n",
    "\n",
    "# Defines a loss function and specifies a compile optimization\n",
    "# model.compile(...)\n",
    "\n",
    "\n",
    "# Tells TensorFlow to train the model (created above) on the training data (x_train and y)\n",
    "# Runs gradient descent and fits the weights to the data\n",
    "# model.fit(x_train, y)\n",
    "\n",
    "# Predict new results given new inputs\n",
    "# model.predict(x_new)"
   ]
  },
  {
   "cell_type": "code",
   "execution_count": null,
   "id": "5951e0f5-67c4-4fca-bad9-685e27dc876a",
   "metadata": {},
   "outputs": [],
   "source": []
  }
 ],
 "metadata": {
  "kernelspec": {
   "display_name": "Python 3 (ipykernel)",
   "language": "python",
   "name": "python3"
  },
  "language_info": {
   "codemirror_mode": {
    "name": "ipython",
    "version": 3
   },
   "file_extension": ".py",
   "mimetype": "text/x-python",
   "name": "python",
   "nbconvert_exporter": "python",
   "pygments_lexer": "ipython3",
   "version": "3.12.11"
  }
 },
 "nbformat": 4,
 "nbformat_minor": 5
}
