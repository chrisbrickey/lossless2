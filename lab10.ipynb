{
 "cells": [
  {
   "cell_type": "markdown",
   "id": "e4f85c0f-4609-40e5-b844-158a9e5468ae",
   "metadata": {},
   "source": [
    "# Lab 10: Softmax Function (multi-class classification)"
   ]
  },
  {
   "cell_type": "code",
   "execution_count": 1,
   "id": "fdec06f7-450b-477e-8b7a-2b4c5138d901",
   "metadata": {},
   "outputs": [],
   "source": [
    "import numpy as np\n",
    "import matplotlib.pyplot as plt\n",
    "plt.style.use('./deeplearning.mplstyle')\n",
    "\n",
    "import tensorflow as tf\n",
    "from tensorflow.keras.models import Sequential\n",
    "from tensorflow.keras.layers import Dense\n",
    "from IPython.display import display, Markdown, Latex\n",
    "\n",
    "from sklearn.datasets import make_blobs\n",
    "\n",
    "# %matplotlib widget\n",
    "from matplotlib.widgets import Slider\n",
    "\n",
    "from lib.lab_utils_common import dlc\n",
    "from lib.lab_utils_softmax import plt_softmax\n",
    "\n",
    "import logging\n",
    "logging.getLogger(\"tensorflow\").setLevel(logging.ERROR)\n",
    "tf.autograph.set_verbosity(0)"
   ]
  },
  {
   "cell_type": "code",
   "execution_count": 2,
   "id": "fb948f13-a00d-4dc4-984d-dcbc8d491c54",
   "metadata": {},
   "outputs": [],
   "source": [
    "def my_softmax(z):\n",
    "    ez = np.exp(z)              #element-wise exponenial\n",
    "    sm = ez/np.sum(ez)\n",
    "    return(sm)"
   ]
  },
  {
   "cell_type": "markdown",
   "id": "c3f7ce36-b90b-467b-800c-94c4cae35c4c",
   "metadata": {},
   "source": [
    "## Play with values of Z\n",
    "\n",
    "As you are varying the values of the z's above, there are a few things to note:\n",
    "* the exponential in the numerator of the softmax magnifies small differences in the values\n",
    "* the output values sum to one\n",
    "* the softmax spans all of the outputs. A change in z0 for example will change the values of a0-a3. Compare this to other activations such as ReLU or Sigmoid which have a single input and single output."
   ]
  },
  {
   "cell_type": "code",
   "execution_count": 3,
   "id": "d23a5d1f-f4f6-40f3-bb9a-2df22f73837e",
   "metadata": {},
   "outputs": [
    {
     "data": {
      "image/png": "[encoded data removed]",
      "text/plain": [
       "<Figure size 800x400 with 6 Axes>"
      ]
     },
     "metadata": {},
     "output_type": "display_data"
    }
   ],
   "source": [
    "# Vary the values of z inputs using the sliders\n",
    "plt.close(\"all\")\n",
    "plt_softmax(my_softmax)"
   ]
  },
  {
   "cell_type": "markdown",
   "id": "3e5bef78-1d6b-4cb1-aeda-bc06371496ca",
   "metadata": {},
   "source": [
    "## Softmax with tensorflow"
   ]
  },
  {
   "cell_type": "code",
   "execution_count": 17,
   "id": "045b5b71-e36f-4e76-97e3-410b8c4a446a",
   "metadata": {},
   "outputs": [],
   "source": [
    "# Setup data\n",
    "\n",
    "centers = [[-5, 2], [-2, -2], [1, 2], [5, -2]]\n",
    "X_train, y_train = make_blobs(n_samples=2000, centers=centers, cluster_std=1.0,random_state=30)"
   ]
  },
  {
   "cell_type": "markdown",
   "id": "fbb3ecc4-e294-4b39-a62c-6527dc9173ce",
   "metadata": {},
   "source": [
    "### Non-optimized / Non-preferred"
   ]
  },
  {
   "cell_type": "code",
   "execution_count": 6,
   "id": "da0ab55f-aefb-4892-a64d-5a1930c2ab89",
   "metadata": {},
   "outputs": [
    {
     "name": "stdout",
     "output_type": "stream",
     "text": [
      "Epoch 1/10\n",
      "\u001b[1m63/63\u001b[0m \u001b[32m━━━━━━━━━━━━━━━━━━━━\u001b[0m\u001b[37m\u001b[0m \u001b[1m0s\u001b[0m 588us/step - loss: 1.2662 \n",
      "Epoch 2/10\n",
      "\u001b[1m63/63\u001b[0m \u001b[32m━━━━━━━━━━━━━━━━━━━━\u001b[0m\u001b[37m\u001b[0m \u001b[1m0s\u001b[0m 545us/step - loss: 0.5584\n",
      "Epoch 3/10\n",
      "\u001b[1m63/63\u001b[0m \u001b[32m━━━━━━━━━━━━━━━━━━━━\u001b[0m\u001b[37m\u001b[0m \u001b[1m0s\u001b[0m 502us/step - loss: 0.2430\n",
      "Epoch 4/10\n",
      "\u001b[1m63/63\u001b[0m \u001b[32m━━━━━━━━━━━━━━━━━━━━\u001b[0m\u001b[37m\u001b[0m \u001b[1m0s\u001b[0m 506us/step - loss: 0.1406\n",
      "Epoch 5/10\n",
      "\u001b[1m63/63\u001b[0m \u001b[32m━━━━━━━━━━━━━━━━━━━━\u001b[0m\u001b[37m\u001b[0m \u001b[1m0s\u001b[0m 545us/step - loss: 0.0818\n",
      "Epoch 6/10\n",
      "\u001b[1m63/63\u001b[0m \u001b[32m━━━━━━━━━━━━━━━━━━━━\u001b[0m\u001b[37m\u001b[0m \u001b[1m0s\u001b[0m 510us/step - loss: 0.0727\n",
      "Epoch 7/10\n",
      "\u001b[1m63/63\u001b[0m \u001b[32m━━━━━━━━━━━━━━━━━━━━\u001b[0m\u001b[37m\u001b[0m \u001b[1m0s\u001b[0m 489us/step - loss: 0.0717\n",
      "Epoch 8/10\n",
      "\u001b[1m63/63\u001b[0m \u001b[32m━━━━━━━━━━━━━━━━━━━━\u001b[0m\u001b[37m\u001b[0m \u001b[1m0s\u001b[0m 546us/step - loss: 0.0508\n",
      "Epoch 9/10\n",
      "\u001b[1m63/63\u001b[0m \u001b[32m━━━━━━━━━━━━━━━━━━━━\u001b[0m\u001b[37m\u001b[0m \u001b[1m0s\u001b[0m 501us/step - loss: 0.0521\n",
      "Epoch 10/10\n",
      "\u001b[1m63/63\u001b[0m \u001b[32m━━━━━━━━━━━━━━━━━━━━\u001b[0m\u001b[37m\u001b[0m \u001b[1m0s\u001b[0m 505us/step - loss: 0.0429\n"
     ]
    },
    {
     "data": {
      "text/plain": [
       "<keras.src.callbacks.history.History at 0x1772ba8d0>"
      ]
     },
     "execution_count": 6,
     "metadata": {},
     "output_type": "execute_result"
    }
   ],
   "source": [
    "# Train model\n",
    "\n",
    "model = Sequential(\n",
    "    [ \n",
    "        Dense(25, activation = 'relu'),\n",
    "        Dense(15, activation = 'relu'),\n",
    "        Dense(4, activation = 'softmax')    # < softmax activation here\n",
    "    ]\n",
    ")\n",
    "model.compile(\n",
    "    loss=tf.keras.losses.SparseCategoricalCrossentropy(),\n",
    "    optimizer=tf.keras.optimizers.Adam(0.001), # adds Adam algorithm to make gradient descent faster\n",
    ")\n",
    "\n",
    "model.fit(\n",
    "    X_train,y_train,\n",
    "    epochs=10\n",
    ")"
   ]
  },
  {
   "cell_type": "markdown",
   "id": "3a985d36-0fde-42c7-aaa1-0610731832c7",
   "metadata": {},
   "source": [
    "#### Outputs are probabilities\n",
    "\n",
    "Because the softmax is integrated into the output layer, the output is a vector of probabilities corresponding to the possible classes / categories.\n",
    "To determine the result, simply select the largest probability in the output vector."
   ]
  },
  {
   "cell_type": "code",
   "execution_count": 10,
   "id": "d59f5ab6-fab2-4e83-b878-0fa37d9367d6",
   "metadata": {},
   "outputs": [
    {
     "name": "stdout",
     "output_type": "stream",
     "text": [
      "\u001b[1m63/63\u001b[0m \u001b[32m━━━━━━━━━━━━━━━━━━━━\u001b[0m\u001b[37m\u001b[0m \u001b[1m0s\u001b[0m 472us/step\n",
      "[[1.81e-03 2.38e-03 9.74e-01 2.15e-02]\n",
      " [9.95e-01 4.73e-03 2.22e-04 3.90e-05]]\n",
      "largest value 0.9999993 smallest value 2.6129706e-08\n"
     ]
    }
   ],
   "source": [
    "# Make predictions\n",
    "\n",
    "p_nonpreferred = model.predict(X_train)\n",
    "\n",
    "print(p_nonpreferred [:2])\n",
    "print(\"largest value\", np.max(p_nonpreferred), \"smallest value\", np.min(p_nonpreferred))"
   ]
  },
  {
   "cell_type": "markdown",
   "id": "99cc2ec7-7be1-43fc-865b-9af023f37721",
   "metadata": {},
   "source": [
    "### Optimized / Preferred\n",
    "More stable and accurate results can be obtained if the softmax and loss are combined during training.\n",
    "\n",
    "In the preferred organization the final layer has a linear activation. \n",
    "\n",
    "For historical reasons, the outputs in this form are referred to as logits. The loss function has an additional argument: from_logits = True. This informs the loss function that the softmax operation should be included in the loss calculation. This allows for an optimized implementation."
   ]
  },
  {
   "cell_type": "code",
   "execution_count": 11,
   "id": "100c5d14-95f9-4b05-8fb1-cc9a60e6c5d8",
   "metadata": {},
   "outputs": [
    {
     "name": "stdout",
     "output_type": "stream",
     "text": [
      "Epoch 1/10\n",
      "\u001b[1m63/63\u001b[0m \u001b[32m━━━━━━━━━━━━━━━━━━━━\u001b[0m\u001b[37m\u001b[0m \u001b[1m0s\u001b[0m 569us/step - loss: 1.4936 \n",
      "Epoch 2/10\n",
      "\u001b[1m63/63\u001b[0m \u001b[32m━━━━━━━━━━━━━━━━━━━━\u001b[0m\u001b[37m\u001b[0m \u001b[1m0s\u001b[0m 523us/step - loss: 0.7878\n",
      "Epoch 3/10\n",
      "\u001b[1m63/63\u001b[0m \u001b[32m━━━━━━━━━━━━━━━━━━━━\u001b[0m\u001b[37m\u001b[0m \u001b[1m0s\u001b[0m 487us/step - loss: 0.5873\n",
      "Epoch 4/10\n",
      "\u001b[1m63/63\u001b[0m \u001b[32m━━━━━━━━━━━━━━━━━━━━\u001b[0m\u001b[37m\u001b[0m \u001b[1m0s\u001b[0m 498us/step - loss: 0.3309\n",
      "Epoch 5/10\n",
      "\u001b[1m63/63\u001b[0m \u001b[32m━━━━━━━━━━━━━━━━━━━━\u001b[0m\u001b[37m\u001b[0m \u001b[1m0s\u001b[0m 508us/step - loss: 0.1599\n",
      "Epoch 6/10\n",
      "\u001b[1m63/63\u001b[0m \u001b[32m━━━━━━━━━━━━━━━━━━━━\u001b[0m\u001b[37m\u001b[0m \u001b[1m0s\u001b[0m 492us/step - loss: 0.1030\n",
      "Epoch 7/10\n",
      "\u001b[1m63/63\u001b[0m \u001b[32m━━━━━━━━━━━━━━━━━━━━\u001b[0m\u001b[37m\u001b[0m \u001b[1m0s\u001b[0m 466us/step - loss: 0.0756\n",
      "Epoch 8/10\n",
      "\u001b[1m63/63\u001b[0m \u001b[32m━━━━━━━━━━━━━━━━━━━━\u001b[0m\u001b[37m\u001b[0m \u001b[1m0s\u001b[0m 489us/step - loss: 0.0573\n",
      "Epoch 9/10\n",
      "\u001b[1m63/63\u001b[0m \u001b[32m━━━━━━━━━━━━━━━━━━━━\u001b[0m\u001b[37m\u001b[0m \u001b[1m0s\u001b[0m 533us/step - loss: 0.0569\n",
      "Epoch 10/10\n",
      "\u001b[1m63/63\u001b[0m \u001b[32m━━━━━━━━━━━━━━━━━━━━\u001b[0m\u001b[37m\u001b[0m \u001b[1m0s\u001b[0m 480us/step - loss: 0.0471\n"
     ]
    },
    {
     "data": {
      "text/plain": [
       "<keras.src.callbacks.history.History at 0x178ad8830>"
      ]
     },
     "execution_count": 11,
     "metadata": {},
     "output_type": "execute_result"
    }
   ],
   "source": [
    "# Train model\n",
    "\n",
    "preferred_model = Sequential(\n",
    "    [ \n",
    "        Dense(25, activation = 'relu'),\n",
    "        Dense(15, activation = 'relu'),\n",
    "        Dense(4, activation = 'linear')   #<-- Note\n",
    "    ]\n",
    ")\n",
    "preferred_model.compile(\n",
    "    loss=tf.keras.losses.SparseCategoricalCrossentropy(from_logits=True),  #<-- Note\n",
    "    optimizer=tf.keras.optimizers.Adam(0.001), # adds Adam algorithm to make gradient descent faster\n",
    ")\n",
    "\n",
    "preferred_model.fit(\n",
    "    X_train,y_train,\n",
    "    epochs=10\n",
    ")"
   ]
  },
  {
   "cell_type": "markdown",
   "id": "a4c68a30-174b-4d49-b1a2-80dc693dff84",
   "metadata": {},
   "source": [
    "#### Outputs are not probabilities\n",
    "\n",
    "In the preferred model, outputs are not probabilities, but can range from large negative numbers to large positive numbers. The output must be sent through a softmax when performing a prediction that expects a probability."
   ]
  },
  {
   "cell_type": "code",
   "execution_count": 13,
   "id": "2e955ae8-5efd-4990-ac14-63beb0c24b8d",
   "metadata": {},
   "outputs": [
    {
     "name": "stdout",
     "output_type": "stream",
     "text": [
      "\u001b[1m63/63\u001b[0m \u001b[32m━━━━━━━━━━━━━━━━━━━━\u001b[0m\u001b[37m\u001b[0m \u001b[1m0s\u001b[0m 421us/step\n",
      "two example output vectors:\n",
      " [[-2.82 -2.19  2.68 -1.4 ]\n",
      " [ 4.74 -0.29 -2.71 -8.53]]\n",
      "largest value 14.5980015 smallest value -17.73716\n"
     ]
    }
   ],
   "source": [
    "# Make predicitons; initially does not yield probabilities\n",
    "\n",
    "p_preferred = preferred_model.predict(X_train)\n",
    "\n",
    "print(f\"two example output vectors:\\n {p_preferred[:2]}\")\n",
    "print(\"largest value\", np.max(p_preferred), \"smallest value\", np.min(p_preferred))"
   ]
  },
  {
   "cell_type": "code",
   "execution_count": 18,
   "id": "d1a935a2-868e-4666-a7a5-b11bb8893a92",
   "metadata": {},
   "outputs": [
    {
     "name": "stdout",
     "output_type": "stream",
     "text": [
      "two example output vectors:\n",
      " [[4.00e-03 7.49e-03 9.72e-01 1.65e-02]\n",
      " [9.93e-01 6.53e-03 5.78e-04 1.72e-06]]\n",
      "largest value 0.99999976 smallest value 9.057714e-15\n"
     ]
    }
   ],
   "source": [
    "# Send results through softmax to get probabilities (corresponding to the different possible classes)\n",
    "\n",
    "sm_preferred = tf.nn.softmax(p_preferred).numpy()\n",
    "\n",
    "print(f\"two example output vectors:\\n {sm_preferred[:2]}\")\n",
    "print(\"largest value\", np.max(sm_preferred), \"smallest value\", np.min(sm_preferred))"
   ]
  },
  {
   "cell_type": "code",
   "execution_count": 20,
   "id": "40fc6517-f931-4d0c-9276-d004890b844d",
   "metadata": {},
   "outputs": [
    {
     "name": "stdout",
     "output_type": "stream",
     "text": [
      "[-2.82 -2.19  2.68 -1.4 ], category: 2\n",
      "[ 4.74 -0.29 -2.71 -8.53], category: 0\n",
      "[ 3.41  0.11 -2.16 -6.68], category: 0\n",
      "[-1.92  4.54 -1.83 -2.17], category: 1\n",
      "[-0.55 -2.43  3.52 -4.27], category: 2\n"
     ]
    }
   ],
   "source": [
    "# For each example, select the class for which that example has the largest resulting probability\n",
    "\n",
    "for i in range(5):\n",
    "    print( f\"{p_preferred[i]}, category: {np.argmax(p_preferred[i])}\")"
   ]
  },
  {
   "cell_type": "markdown",
   "id": "9dc5b0db-7203-4778-88bd-88ee7a9e2b58",
   "metadata": {},
   "source": [
    "## SparseCategorialCrossentropy or CategoricalCrossEntropy\n",
    "\n",
    "Tensorflow has two potential formats for target values and the selection of the loss defines which is expected.\n",
    "* SparseCategorialCrossentropy: expects the target to be an integer corresponding to the index. For example, if there are 10 potential target values, y would be between 0 and 9.\n",
    "* CategoricalCrossEntropy: Expects the target value of an example to be one-hot encoded where the value at the target index is 1 while the other N-1 entries are zero. An example with 10 potential target values, where the target is 2 would be [0,0,1,0,0,0,0,0,0,0]."
   ]
  }
 ],
 "metadata": {
  "kernelspec": {
   "display_name": "Python 3 (ipykernel)",
   "language": "python",
   "name": "python3"
  },
  "language_info": {
   "codemirror_mode": {
    "name": "ipython",
    "version": 3
   },
   "file_extension": ".py",
   "mimetype": "text/x-python",
   "name": "python",
   "nbconvert_exporter": "python",
   "pygments_lexer": "ipython3",
   "version": "3.12.11"
  }
 },
 "nbformat": 4,
 "nbformat_minor": 5
}
