{
 "cells": [
  {
   "cell_type": "markdown",
   "id": "a655400e-660c-4efe-a1ea-cbc81287af36",
   "metadata": {},
   "source": [
    "# Lab 9: Improved network design\n",
    "\n",
    "This lab has improvements from previous labs including:\n",
    "* more optimal selection of activation functions\n",
    "* optimized for round off errors (more numerically stable)"
   ]
  },
  {
   "cell_type": "code",
   "execution_count": 13,
   "id": "b33251bf-7b5f-4b45-8970-0054fc90032e",
   "metadata": {},
   "outputs": [],
   "source": [
    "import tensorflow as tf\n",
    "from tensorflow.keras import Sequential\n",
    "from tensorflow.keras.layers import Dense\n",
    "from tensorflow.keras.losses import BinaryCrossentropy, SparseCategoricalCrossentropy"
   ]
  },
  {
   "cell_type": "markdown",
   "id": "2db5f992-cdd7-49b9-ab3d-e80cdf1212b0",
   "metadata": {},
   "source": [
    "## Binary Classification / Logistical Regression"
   ]
  },
  {
   "cell_type": "markdown",
   "id": "f85c98f8-b39a-472a-bb0d-09fbcdc59539",
   "metadata": {},
   "source": [
    "### Step 1: Setup sequential layers of the network"
   ]
  },
  {
   "cell_type": "code",
   "execution_count": 20,
   "id": "683b24eb-e3a4-400a-8f06-fb76650c05b9",
   "metadata": {},
   "outputs": [],
   "source": [
    "# To improve efficiency, use 'linear' in the final layer. But use sigmoid to define the loss function.\n",
    "\n",
    "# In the below structure, I don't know why we are still using 'sigmoid' for hidden layers instead of 'relu'.\n",
    "# ...but this is how it is coded in the course material.\n",
    "model = Sequential([\n",
    "    Dense(units=25, activation='sigmoid'),\n",
    "    Dense(units=15, activation='sigmoid'),\n",
    "    Dense(units=10, activation='linear')\n",
    "])"
   ]
  },
  {
   "cell_type": "markdown",
   "id": "2d57d894-e659-48e8-9659-cfb20752b436",
   "metadata": {},
   "source": [
    "### Step 2: Compile the model (specifying the loss function)"
   ]
  },
  {
   "cell_type": "code",
   "execution_count": 16,
   "id": "5ba63ded-1f04-495f-93d4-df2b71ce8daa",
   "metadata": {},
   "outputs": [],
   "source": [
    "# For all types of classification; \n",
    "# add optional parameter logits=True to minimize roundoff error\n",
    "# This command allows tensorflow to arrange mathematical terms in a way to reduce roundoff error.\n",
    "\n",
    "model.compile(loss=BinaryCrossentropy(from_logits=True))\n"
   ]
  },
  {
   "cell_type": "markdown",
   "id": "c81c2d44-a7f5-456b-8445-ae9e42363743",
   "metadata": {},
   "source": [
    "### Step 3: Fit the model to the data (using the specified loss function to minimize cost/loss)"
   ]
  },
  {
   "cell_type": "code",
   "execution_count": 21,
   "id": "5aa3f252-ff5e-470c-b247-a5876069fd97",
   "metadata": {},
   "outputs": [
    {
     "ename": "NameError",
     "evalue": "name 'X' is not defined",
     "output_type": "error",
     "traceback": [
      "\u001b[31m---------------------------------------------------------------------------\u001b[39m",
      "\u001b[31mNameError\u001b[39m                                 Traceback (most recent call last)",
      "\u001b[36mCell\u001b[39m\u001b[36m \u001b[39m\u001b[32mIn[21]\u001b[39m\u001b[32m, line 1\u001b[39m\n\u001b[32m----> \u001b[39m\u001b[32m1\u001b[39m model.fit(\u001b[43mX\u001b[49m, Y, epochs = \u001b[32m100\u001b[39m)\n",
      "\u001b[31mNameError\u001b[39m: name 'X' is not defined"
     ]
    }
   ],
   "source": [
    "model.fit(X, Y, epochs = 100)"
   ]
  },
  {
   "cell_type": "markdown",
   "id": "331c7024-c4c7-44b1-8417-46584414451c",
   "metadata": {},
   "source": [
    "### Step 4: Make predictions"
   ]
  },
  {
   "cell_type": "code",
   "execution_count": 24,
   "id": "4b389846-4293-4ef5-a4a6-e8a5ef654fe4",
   "metadata": {},
   "outputs": [
    {
     "ename": "NameError",
     "evalue": "name 'X' is not defined",
     "output_type": "error",
     "traceback": [
      "\u001b[31m---------------------------------------------------------------------------\u001b[39m",
      "\u001b[31mNameError\u001b[39m                                 Traceback (most recent call last)",
      "\u001b[36mCell\u001b[39m\u001b[36m \u001b[39m\u001b[32mIn[24]\u001b[39m\u001b[32m, line 3\u001b[39m\n\u001b[32m      1\u001b[39m \u001b[38;5;66;03m# Specify sigmoid for making predictions\u001b[39;00m\n\u001b[32m----> \u001b[39m\u001b[32m3\u001b[39m logit = model(\u001b[43mX\u001b[49m)\n\u001b[32m      4\u001b[39m f_x = tf.nn.sigmoid(logit)\n",
      "\u001b[31mNameError\u001b[39m: name 'X' is not defined"
     ]
    }
   ],
   "source": [
    "# Specify sigmoid for making predictions\n",
    "\n",
    "logit = model(X)\n",
    "f_x = tf.nn.sigmoid(logit)"
   ]
  },
  {
   "cell_type": "markdown",
   "id": "163d0e7f-dcd7-4572-b169-6b4861ef6c2a",
   "metadata": {},
   "source": [
    "## Multiclass Classification"
   ]
  },
  {
   "cell_type": "markdown",
   "id": "113ef16a-382b-433d-8b4d-0e9937cd69af",
   "metadata": {},
   "source": [
    "### Step 1: Setup sequential layers of the network"
   ]
  },
  {
   "cell_type": "code",
   "execution_count": 19,
   "id": "012e70c0-c97f-421a-938b-d6d13695f93e",
   "metadata": {},
   "outputs": [],
   "source": [
    "# To improve efficiency, use 'linear' in the final layer. But use softmax to define the loss function.\n",
    "\n",
    "model = Sequential([\n",
    "    Dense(units=25, activation='relu'),\n",
    "    Dense(units=15, activation='relu'),\n",
    "    Dense(units=10, activation='linear')\n",
    "])"
   ]
  },
  {
   "cell_type": "markdown",
   "id": "fdd2f1c3-2c3b-446d-9c81-8453db2af3a9",
   "metadata": {},
   "source": [
    "### Step 2: Compile the model (specifying the loss function)"
   ]
  },
  {
   "cell_type": "code",
   "execution_count": 12,
   "id": "8a12bad6-3186-4293-920b-85fb5d3b9c7d",
   "metadata": {},
   "outputs": [],
   "source": [
    "# For all types of classification; \n",
    "# add optional parameter logits=True to minimize roundoff error\n",
    "# This command allows tensorflow to arrange mathematical terms in a way to reduce roundoff error.\n",
    "\n",
    "model.compile(loss=SparseCategoricalCrossentropy(from_logits=True))\n"
   ]
  },
  {
   "cell_type": "markdown",
   "id": "2271b63c-b61d-4d2c-afb4-556eab35dd2e",
   "metadata": {},
   "source": [
    "### Step 3: Fit the model to the data (using the specified loss function to minimize cost/loss)"
   ]
  },
  {
   "cell_type": "code",
   "execution_count": 17,
   "id": "76cb538d-8bf9-41dc-9c15-ab3f15e42f3a",
   "metadata": {},
   "outputs": [
    {
     "ename": "NameError",
     "evalue": "name 'X' is not defined",
     "output_type": "error",
     "traceback": [
      "\u001b[31m---------------------------------------------------------------------------\u001b[39m",
      "\u001b[31mNameError\u001b[39m                                 Traceback (most recent call last)",
      "\u001b[36mCell\u001b[39m\u001b[36m \u001b[39m\u001b[32mIn[17]\u001b[39m\u001b[32m, line 1\u001b[39m\n\u001b[32m----> \u001b[39m\u001b[32m1\u001b[39m model.fit(\u001b[43mX\u001b[49m, Y, epochs = \u001b[32m100\u001b[39m)\n",
      "\u001b[31mNameError\u001b[39m: name 'X' is not defined"
     ]
    }
   ],
   "source": [
    "model.fit(X, Y, epochs = 100)"
   ]
  },
  {
   "cell_type": "markdown",
   "id": "a3ca154d-b482-4053-9ac0-3d39875763d7",
   "metadata": {},
   "source": [
    "### Step 4: Make predictions"
   ]
  },
  {
   "cell_type": "code",
   "execution_count": 22,
   "id": "b27462d0-f982-48f5-87f1-985d11692776",
   "metadata": {},
   "outputs": [
    {
     "ename": "NameError",
     "evalue": "name 'X' is not defined",
     "output_type": "error",
     "traceback": [
      "\u001b[31m---------------------------------------------------------------------------\u001b[39m",
      "\u001b[31mNameError\u001b[39m                                 Traceback (most recent call last)",
      "\u001b[36mCell\u001b[39m\u001b[36m \u001b[39m\u001b[32mIn[22]\u001b[39m\u001b[32m, line 3\u001b[39m\n\u001b[32m      1\u001b[39m \u001b[38;5;66;03m# Specify softmax for making predictions\u001b[39;00m\n\u001b[32m----> \u001b[39m\u001b[32m3\u001b[39m logits = model(\u001b[43mX\u001b[49m)\n\u001b[32m      4\u001b[39m f_x = tf.nn.softmax(logits)\n",
      "\u001b[31mNameError\u001b[39m: name 'X' is not defined"
     ]
    }
   ],
   "source": [
    "# Specify softmax for making predictions\n",
    "\n",
    "logits = model(X)\n",
    "f_x = tf.nn.softmax(logits)"
   ]
  }
 ],
 "metadata": {
  "kernelspec": {
   "display_name": "Python 3 (ipykernel)",
   "language": "python",
   "name": "python3"
  },
  "language_info": {
   "codemirror_mode": {
    "name": "ipython",
    "version": 3
   },
   "file_extension": ".py",
   "mimetype": "text/x-python",
   "name": "python",
   "nbconvert_exporter": "python",
   "pygments_lexer": "ipython3",
   "version": "3.12.11"
  }
 },
 "nbformat": 4,
 "nbformat_minor": 5
}
